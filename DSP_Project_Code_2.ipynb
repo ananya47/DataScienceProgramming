{
 "cells": [
  {
   "cell_type": "markdown",
   "id": "0b9f95f8",
   "metadata": {},
   "source": [
    "# Face Recognition Project"
   ]
  },
  {
   "cell_type": "code",
   "execution_count": 207,
   "id": "c3a35001",
   "metadata": {},
   "outputs": [],
   "source": [
    "import tensorflow as tf\n",
    "import matplotlib.pyplot as plt\n",
    "import cv2\n",
    "import os\n",
    "import numpy as np\n",
    "from tensorflow.keras.preprocessing.image import ImageDataGenerator\n",
    "from tensorflow.keras.preprocessing import image\n",
    "import dlib"
   ]
  },
  {
   "cell_type": "markdown",
   "id": "85b1c47b",
   "metadata": {},
   "source": [
    "## Deep Learning CNN model to recognize face\n",
    "\n",
    "### This script uses a database of images and creates CNN model on top of it to test if the given image is recognized correctly or not\n",
    " \n",
    " \n",
    " \n",
    "### IMAGE PRE-PROCESSING for TRAINING and TESTING data:"
   ]
  },
  {
   "cell_type": "code",
   "execution_count": 208,
   "id": "93df15e7",
   "metadata": {},
   "outputs": [
    {
     "name": "stdout",
     "output_type": "stream",
     "text": [
      "Found 1145 images belonging to 24 classes.\n",
      "Found 1145 images belonging to 24 classes.\n"
     ]
    },
    {
     "data": {
      "text/plain": [
       "{'dave': 0,\n",
       " 'dev': 1,\n",
       " 'donna': 2,\n",
       " 'dori': 3,\n",
       " 'eric': 4,\n",
       " 'gervez': 5,\n",
       " 'hui': 6,\n",
       " 'john': 7,\n",
       " 'kim': 8,\n",
       " 'kori': 9,\n",
       " 'loki': 10,\n",
       " 'matt': 11,\n",
       " 'nate': 12,\n",
       " 'paaji': 13,\n",
       " 'pamela': 14,\n",
       " 'rinku': 15,\n",
       " 'rinku1': 16,\n",
       " 'roger': 17,\n",
       " 'saisrujan': 18,\n",
       " 'shreya': 19,\n",
       " 'srikar': 20,\n",
       " 'srujan': 21,\n",
       " 'tom': 22,\n",
       " 'van': 23}"
      ]
     },
     "execution_count": 208,
     "metadata": {},
     "output_type": "execute_result"
    }
   ],
   "source": [
    "# Specifying the folder where images are present\n",
    "TrainingImagePath='/Users//sruja/PycharmProjects/pythonProject/test1'\n",
    " \n",
    "from keras.preprocessing.image import ImageDataGenerator\n",
    "# Defining pre-processing transformations on raw images of training data\n",
    "# These hyper parameters help to generate slightly twisted versions of the original image, which leads to a better model, \n",
    "# since it learns on the good and bad mix of images\n",
    "\n",
    "train_datagen = ImageDataGenerator(\n",
    "        shear_range=0.1,\n",
    "        zoom_range=0.1,\n",
    "        horizontal_flip=True)\n",
    " \n",
    "# Defining pre-processing transformations on raw images of testing data\n",
    "# No transformations are done on the testing images\n",
    "\n",
    "test_datagen = ImageDataGenerator()\n",
    " \n",
    "# Generating the Training Data\n",
    "training_set = train_datagen.flow_from_directory(\n",
    "        TrainingImagePath,\n",
    "        target_size=(64, 64),\n",
    "        batch_size=20,\n",
    "        class_mode='categorical')\n",
    " \n",
    " \n",
    "# Generating the Testing Data\n",
    "test_set = test_datagen.flow_from_directory(\n",
    "        TrainingImagePath,\n",
    "        target_size=(64, 64),\n",
    "        batch_size=20,\n",
    "        class_mode='categorical')\n",
    " \n",
    "# Printing class labels for each face\n",
    "test_set.class_indices"
   ]
  },
  {
   "cell_type": "markdown",
   "id": "b87233dc",
   "metadata": {},
   "source": [
    "### Creating lookup table for all faces:"
   ]
  },
  {
   "cell_type": "code",
   "execution_count": 209,
   "id": "76d1addb",
   "metadata": {},
   "outputs": [
    {
     "name": "stdout",
     "output_type": "stream",
     "text": [
      "Mapping of Face and its ID\n",
      "\n",
      " {0: 'dave', 1: 'dev', 2: 'donna', 3: 'dori', 4: 'eric', 5: 'gervez', 6: 'hui', 7: 'john', 8: 'kim', 9: 'kori', 10: 'loki', 11: 'matt', 12: 'nate', 13: 'paaji', 14: 'pamela', 15: 'rinku', 16: 'rinku1', 17: 'roger', 18: 'saisrujan', 19: 'shreya', 20: 'srikar', 21: 'srujan', 22: 'tom', 23: 'van'}\n",
      "\n",
      " Number of Output Neurons:  24\n"
     ]
    }
   ],
   "source": [
    "# class_indices have the numeric tag for each face\n",
    "TrainClasses=training_set.class_indices\n",
    " \n",
    "# Storing the face and the numeric tag for future reference\n",
    "ResultMap={}\n",
    "for faceValue,faceName in zip(TrainClasses.values(),TrainClasses.keys()):\n",
    "    ResultMap[faceValue]=faceName\n",
    " \n",
    " # Saving the face map for future reference\n",
    "import pickle\n",
    "with open(\"ResultsMap.pkl\", 'wb') as fileWriteStream:\n",
    "    pickle.dump(ResultMap, fileWriteStream)\n",
    " \n",
    " # The model will give answer as a ID or tag\n",
    "# We show the corresponding face name for it using the mapping\n",
    "print(\"Mapping of Face and its ID\")\n",
    "print('\\n',ResultMap)\n",
    " \n",
    "# The number of neurons for the output layer is equal to the number of faces\n",
    "OutputNeurons=len(ResultMap)\n",
    "print('\\n Number of Output Neurons: ', OutputNeurons)"
   ]
  },
  {
   "cell_type": "markdown",
   "id": "8a8a4b61",
   "metadata": {},
   "source": [
    "## Creating a CNN deep learning model \n"
   ]
  },
  {
   "cell_type": "code",
   "execution_count": 210,
   "id": "9ea17a99",
   "metadata": {},
   "outputs": [
    {
     "name": "stdout",
     "output_type": "stream",
     "text": [
      "Epoch 1/30\n",
      "15/15 [==============================] - 2s 127ms/step - loss: 28.7825 - accuracy: 0.1733 - val_loss: 2.0316 - val_accuracy: 0.4600\n",
      "Epoch 2/30\n",
      "15/15 [==============================] - 2s 114ms/step - loss: 1.6263 - accuracy: 0.5833 - val_loss: 1.0184 - val_accuracy: 0.7200\n",
      "Epoch 3/30\n",
      "15/15 [==============================] - 2s 133ms/step - loss: 0.7701 - accuracy: 0.7933 - val_loss: 0.6972 - val_accuracy: 0.8250\n",
      "Epoch 4/30\n",
      "15/15 [==============================] - 2s 124ms/step - loss: 0.6291 - accuracy: 0.8500 - val_loss: 0.5655 - val_accuracy: 0.8800\n",
      "Epoch 5/30\n",
      "15/15 [==============================] - 2s 115ms/step - loss: 0.4742 - accuracy: 0.8807 - val_loss: 0.2603 - val_accuracy: 0.9500\n",
      "Epoch 6/30\n",
      "15/15 [==============================] - 2s 123ms/step - loss: 0.4289 - accuracy: 0.8933 - val_loss: 0.2082 - val_accuracy: 0.9300\n",
      "Epoch 7/30\n",
      "15/15 [==============================] - 2s 114ms/step - loss: 0.2162 - accuracy: 0.9333 - val_loss: 0.2016 - val_accuracy: 0.9700\n",
      "Epoch 8/30\n",
      "15/15 [==============================] - 2s 113ms/step - loss: 0.1990 - accuracy: 0.9600 - val_loss: 0.0566 - val_accuracy: 0.9950\n",
      "Epoch 9/30\n",
      "15/15 [==============================] - 2s 116ms/step - loss: 0.1023 - accuracy: 0.9667 - val_loss: 0.0743 - val_accuracy: 0.9900\n",
      "Epoch 10/30\n",
      "15/15 [==============================] - 2s 116ms/step - loss: 0.1341 - accuracy: 0.9667 - val_loss: 0.0933 - val_accuracy: 0.9700\n",
      "Epoch 11/30\n",
      "15/15 [==============================] - 2s 116ms/step - loss: 0.1150 - accuracy: 0.9719 - val_loss: 0.1211 - val_accuracy: 0.9650\n",
      "Epoch 12/30\n",
      "15/15 [==============================] - 2s 118ms/step - loss: 0.0994 - accuracy: 0.9800 - val_loss: 0.0170 - val_accuracy: 1.0000\n",
      "Epoch 13/30\n",
      "15/15 [==============================] - 2s 116ms/step - loss: 0.0487 - accuracy: 0.9833 - val_loss: 0.1880 - val_accuracy: 0.9850\n",
      "Epoch 14/30\n",
      "15/15 [==============================] - 2s 120ms/step - loss: 0.0349 - accuracy: 0.9933 - val_loss: 0.1898 - val_accuracy: 0.9950\n",
      "Epoch 15/30\n",
      "15/15 [==============================] - 2s 115ms/step - loss: 0.1436 - accuracy: 0.9800 - val_loss: 0.0372 - val_accuracy: 0.9950\n",
      "Epoch 16/30\n",
      "15/15 [==============================] - 2s 114ms/step - loss: 0.0703 - accuracy: 0.9860 - val_loss: 0.0228 - val_accuracy: 0.9900\n",
      "Epoch 17/30\n",
      "15/15 [==============================] - 2s 115ms/step - loss: 0.0235 - accuracy: 0.9967 - val_loss: 0.0213 - val_accuracy: 0.9950\n",
      "Epoch 18/30\n",
      "15/15 [==============================] - 2s 114ms/step - loss: 0.0312 - accuracy: 0.9930 - val_loss: 0.0053 - val_accuracy: 1.0000\n",
      "Epoch 19/30\n",
      "15/15 [==============================] - 2s 119ms/step - loss: 0.1666 - accuracy: 0.9509 - val_loss: 0.0764 - val_accuracy: 0.9850\n",
      "Epoch 20/30\n",
      "15/15 [==============================] - 2s 124ms/step - loss: 0.1184 - accuracy: 0.9667 - val_loss: 0.0343 - val_accuracy: 0.9950\n",
      "Epoch 21/30\n",
      "15/15 [==============================] - 2s 121ms/step - loss: 0.1090 - accuracy: 0.9633 - val_loss: 0.0215 - val_accuracy: 0.9900\n",
      "Epoch 22/30\n",
      "15/15 [==============================] - 2s 114ms/step - loss: 0.0761 - accuracy: 0.9754 - val_loss: 0.0280 - val_accuracy: 0.9950\n",
      "Epoch 23/30\n",
      "15/15 [==============================] - 2s 116ms/step - loss: 0.0298 - accuracy: 0.9930 - val_loss: 0.0118 - val_accuracy: 0.9950\n",
      "Epoch 24/30\n",
      "15/15 [==============================] - 2s 118ms/step - loss: 0.0241 - accuracy: 0.9967 - val_loss: 0.0183 - val_accuracy: 0.9950\n",
      "Epoch 25/30\n",
      "15/15 [==============================] - 2s 121ms/step - loss: 0.0296 - accuracy: 0.9900 - val_loss: 0.0176 - val_accuracy: 0.9950\n",
      "Epoch 26/30\n",
      "15/15 [==============================] - 2s 124ms/step - loss: 0.0827 - accuracy: 0.9767 - val_loss: 0.0181 - val_accuracy: 0.9950\n",
      "Epoch 27/30\n",
      "15/15 [==============================] - 2s 119ms/step - loss: 0.0300 - accuracy: 0.9933 - val_loss: 0.0236 - val_accuracy: 0.9950\n",
      "Epoch 28/30\n",
      "15/15 [==============================] - 2s 130ms/step - loss: 0.0053 - accuracy: 1.0000 - val_loss: 0.0014 - val_accuracy: 1.0000\n",
      "Epoch 29/30\n",
      "15/15 [==============================] - 2s 114ms/step - loss: 0.0232 - accuracy: 0.9967 - val_loss: 0.0077 - val_accuracy: 0.9950\n",
      "Epoch 30/30\n",
      "15/15 [==============================] - 2s 118ms/step - loss: 0.0374 - accuracy: 0.9900 - val_loss: 2.4594e-04 - val_accuracy: 1.0000\n",
      "###### Total Time Taken:  1 Minutes ######\n"
     ]
    }
   ],
   "source": [
    "from keras.models import Sequential\n",
    "from keras.layers import Convolution2D\n",
    "from keras.layers import MaxPool2D\n",
    "from keras.layers import Flatten\n",
    "from keras.layers import Dense\n",
    " \n",
    "#''Initializing the Convolutional Neural Network'''\n",
    "model = Sequential()\n",
    " \n",
    "''' STEP--1 Convolution\n",
    "# Adding the first layer of CNN\n",
    "# we are using the format (64,64,3) because we are using TensorFlow backend\n",
    "# It means 3 matrix of size (64X64) pixels representing Red, Green and Blue components of pixels\n",
    "'''\n",
    "model.add(Convolution2D(32, kernel_size=(5, 5), strides=(1, 1), input_shape=(64,64,3), activation='relu'))\n",
    " \n",
    "'''# STEP--2 MAX Pooling'''\n",
    "model.add(MaxPool2D(pool_size=(2,2)))\n",
    " \n",
    "'''############## ADDITIONAL LAYER of CONVOLUTION for better accuracy #################'''\n",
    "model.add(Convolution2D(64, kernel_size=(5, 5), strides=(1, 1), activation='relu'))\n",
    " \n",
    "model.add(MaxPool2D(pool_size=(2,2)))\n",
    " \n",
    "'''# STEP--3 FLattening'''\n",
    "model.add(Flatten())\n",
    " \n",
    "'''# STEP--4 Fully Connected Neural Network'''\n",
    "model.add(Dense(64, activation='relu'))\n",
    "model.add(Dense(OutputNeurons, activation='softmax'))\n",
    " \n",
    "'''# Compiling the CNN'''\n",
    "model.compile(loss='categorical_crossentropy', optimizer = 'adam', metrics=[\"accuracy\"])\n",
    " \n",
    "import time\n",
    "# Measuring the time taken by the model to train\n",
    "StartTime=time.time()\n",
    " \n",
    "# Starting the model training\n",
    "model.fit_generator(\n",
    "                    training_set,\n",
    "                    steps_per_epoch=15,\n",
    "                    epochs=30,\n",
    "                    validation_data=test_set,\n",
    "                    validation_steps=10)\n",
    " \n",
    "EndTime=time.time()\n",
    "print(\"###### Total Time Taken: \", round((EndTime-StartTime)/60), 'Minutes ######')"
   ]
  },
  {
   "cell_type": "markdown",
   "id": "6fdf4828",
   "metadata": {},
   "source": [
    "## Making single predictions "
   ]
  },
  {
   "cell_type": "code",
   "execution_count": 211,
   "id": "5a1bf2de",
   "metadata": {},
   "outputs": [
    {
     "name": "stdout",
     "output_type": "stream",
     "text": [
      "----------------------------------------\n",
      "Prediction is:  saisrujan\n",
      "----------------------------------------\n"
     ]
    }
   ],
   "source": [
    "import numpy as np\n",
    "import cv2\n",
    "\n",
    "from keras.preprocessing import image\n",
    "\n",
    "\n",
    "ImagePath  = '/Users/sruja/Pictures/Camera Roll/pred1.jpg'\n",
    "\n",
    "img = cv2.imread(ImagePath)\n",
    "\n",
    "#########################################################################################################\n",
    "# Convert into grayscale\n",
    "gray = cv2.cvtColor(img, cv2.COLOR_BGR2GRAY)\n",
    "\n",
    "face_cascade = cv2.CascadeClassifier('haarcascade_frontalface_alt2.xml')\n",
    "\n",
    "# Detect faces\n",
    "faces = face_cascade.detectMultiScale(gray, 1.1, 4)\n",
    "\n",
    "for (x, y, w, h) in faces:\n",
    "    cv2.rectangle(img, (x, y), (x+w, y+h),\n",
    "                (0, 0, 255), 2)\n",
    "\n",
    "    faces = img[y:y + h, x:x + w]\n",
    "#         cv2.imshow(\"face\",faces)\n",
    "    cv2.imwrite(ImagePath, faces)\n",
    "\n",
    "### The code commented in this block is used for a fresh image or an uncropped image.\n",
    "#########################################################################################################\n",
    "\n",
    "test_image = image.load_img(ImagePath,target_size=(64, 64))\n",
    "test_image = image.img_to_array(test_image)\n",
    "\n",
    "test_image = np.expand_dims(test_image,axis=0)\n",
    "\n",
    "result = model.predict(test_image,verbose=0)\n",
    "\n",
    "#print(result)\n",
    "\n",
    "#if result>=1:\n",
    "print('----'*10)\n",
    "print('Prediction is: ',ResultMap[np.argmax(result)])\n",
    "print('----'*10)\n",
    "#else:\n",
    "#    print(\"unknown\")"
   ]
  }
 ],
 "metadata": {
  "kernelspec": {
   "display_name": "Python 3 (ipykernel)",
   "language": "python",
   "name": "python3"
  },
  "language_info": {
   "codemirror_mode": {
    "name": "ipython",
    "version": 3
   },
   "file_extension": ".py",
   "mimetype": "text/x-python",
   "name": "python",
   "nbconvert_exporter": "python",
   "pygments_lexer": "ipython3",
   "version": "3.8.12"
  }
 },
 "nbformat": 4,
 "nbformat_minor": 5
}
